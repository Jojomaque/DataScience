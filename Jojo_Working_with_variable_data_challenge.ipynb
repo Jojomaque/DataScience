{
  "nbformat": 4,
  "nbformat_minor": 0,
  "metadata": {
    "colab": {
      "name": "Jojo Working with variable data challenge.ipynb",
      "provenance": [],
      "collapsed_sections": [],
      "include_colab_link": true
    },
    "kernelspec": {
      "name": "python3",
      "display_name": "Python 3"
    },
    "language_info": {
      "name": "python"
    }
  },
  "cells": [
    {
      "cell_type": "markdown",
      "metadata": {
        "id": "view-in-github",
        "colab_type": "text"
      },
      "source": [
        "<a href=\"https://colab.research.google.com/github/Jojomaque/DataScience/blob/main/Jojo_Working_with_variable_data_challenge.ipynb\" target=\"_parent\"><img src=\"https://colab.research.google.com/assets/colab-badge.svg\" alt=\"Open In Colab\"/></a>"
      ]
    },
    {
      "cell_type": "markdown",
      "metadata": {
        "id": "z3cqyYR4PI-E"
      },
      "source": [
        "# Create a set of statistics from a list of variables \n",
        "\n",
        "---\n",
        "Sea levels are rising.  The data in the tests at the bottom of this notebook contains a list of the difference between the sea level in any year since 1880 and the level it was in 1880.\n",
        "\n",
        "### Data Source\n",
        "Global Average Absolute Sea Level Change, 1880-2014 from the US Environmental Protection Agency using data from CSIRO, 2015; NOAA, 2015.\n",
        "https://datahub.io/core/sea-level-rise\n",
        "\n",
        "The data describes annual sea levels from 1880 to 2013.  Measures are adjusted using two standards: Commonwealth Scientific and Industrial Research Organisation(CSIRO) and National Oceanic and Atmospheric Administration (NOAA)\n"
      ]
    },
    {
      "cell_type": "markdown",
      "metadata": {
        "id": "8TxO6iyVcnoE"
      },
      "source": [
        "## To complete this challenge you will need to know:\n",
        "*  Data types, variables and operators\n",
        "*  Selection\n",
        "*  Functions\n",
        "\n",
        "\n",
        "Complete the functions below and test that they work by running the tests in the final cell"
      ]
    },
    {
      "cell_type": "markdown",
      "metadata": {
        "id": "2mUqEsvBdBRF"
      },
      "source": [
        "---\n",
        "## Calculate the average annual level above 1880 levels \n"
      ]
    },
    {
      "cell_type": "code",
      "metadata": {
        "id": "6uteC8yndcWb",
        "colab": {
          "base_uri": "https://localhost:8080/"
        },
        "outputId": "6976d41e-c353-4157-bbd0-c04bd325dd61"
      },
      "source": [
        "def get_average(level1, level2, level3, level4, level5):\n",
        "  #  add your code below here to calculate the average of the values, then run to test it\n",
        "  total = level1 + level2 + level3 + level4 + level5\n",
        "  average = total / 5\n",
        "  return average\n",
        "\n",
        "\n",
        "# Tests\n",
        "# levels to use 8.586614164, 8.901574794, 8.96456692, 9.326771643999999, 8.980314951\n",
        "# Test 1 - average of first 10 values\n",
        "if get_average(8.586614164, 8.901574794, 8.96456692, 9.326771643999999, 8.980314951) == 8.9519684946:\n",
        "  print(\"Test 1 passed\")\n",
        "else: \n",
        "  print(\"Test 1 failed\")\n"
      ],
      "execution_count": null,
      "outputs": [
        {
          "output_type": "stream",
          "text": [
            "Test 1 passed\n"
          ],
          "name": "stdout"
        }
      ]
    },
    {
      "cell_type": "markdown",
      "metadata": {
        "id": "afnwVMLcn8Nc"
      },
      "source": [
        "---\n",
        "## Calculate the largest change from one year to the next in the entire list\n",
        "The change would be indicated by subtracting the preceding level from this level\n",
        "\n"
      ]
    },
    {
      "cell_type": "code",
      "metadata": {
        "id": "6gvFh7qGoWVz",
        "colab": {
          "base_uri": "https://localhost:8080/"
        },
        "outputId": "fa9fad08-fa19-49ad-eeb0-09886a4925a8"
      },
      "source": [
        "def get_largest_change(level1, level2, level3, level4, level5):\n",
        "  #  add your code below here to find the highest change from one year to the next, then run to test it\n",
        "\n",
        "    differences=[]\n",
        "\n",
        "\n",
        "    difference= 0\n",
        "    yearly_difference1= level2-level1\n",
        "    differences.append(yearly_difference1)\n",
        "\n",
        "   \n",
        "    yearly_difference2= level3-level2\n",
        "    differences.append(yearly_difference2)\n",
        "    \n",
        "    yearly_difference3=level4-level3\n",
        "    differences.append(yearly_difference3)\n",
        "    \n",
        "    yearly_difference4= level5-level4\n",
        "    differences.append(yearly_difference4)\n",
        "    \n",
        "    #print(differences)\n",
        "    \n",
        "    return max(differences)\n",
        "    \n",
        "\n",
        "      \n",
        "   \n",
        "  \n",
        "# Tests\n",
        "# levels to use 8.586614164, 8.901574794, 8.96456692, 9.326771643999999, 8.980314951\n",
        "# Test 1 - highest year on year change\n",
        "if get_largest_change(8.586614164, 8.901574794, 8.96456692, 9.326771643999999, 8.980314951) == 0.3622047239999997:\n",
        "  print(\"Test 1 passed\")\n",
        "else:\n",
        "  print(\"Test 1 failed\")\n"
      ],
      "execution_count": null,
      "outputs": [
        {
          "output_type": "stream",
          "text": [
            "Test 1 passed\n"
          ],
          "name": "stdout"
        }
      ]
    },
    {
      "cell_type": "code",
      "metadata": {
        "id": "17cEJjuJemZF",
        "outputId": "d3fd8722-e496-481d-e005-0aeb7ff7ef17",
        "colab": {
          "base_uri": "https://localhost:8080/"
        }
      },
      "source": [
        "def get_largest_change(level1, level2, level3, level4, level5):\n",
        "  levels = [level1, level2, level3, level4, level5]\n",
        "  max = 0\n",
        "  curr_level = 0\n",
        "  next_level = 0\n",
        "\n",
        "  for i in range(len(levels)):\n",
        "    print(i, \"=>\", levels[i] )\n",
        "    if i < len(levels) - 1:\n",
        "      diff = abs(levels[i] - levels[i + 1])\n",
        "      max = diff if diff > max else max\n",
        "\n",
        "  print(max)\n",
        "  return max\n",
        "\n",
        "# Tests\n",
        "# levels to use 8.586614164, 8.901574794, 8.96456692, 9.326771643999999, 8.980314951\n",
        "# Test 1 - highest year on year change\n",
        "if get_largest_change(8.586614164, 8.901574794, 8.96456692, 9.326771643999999, 8.980314951) == 0.3622047239999997:\n",
        "  print(\"Test 1 passed\")\n",
        "else:\n",
        "  print(\"Test 1 failed\")"
      ],
      "execution_count": 5,
      "outputs": [
        {
          "output_type": "stream",
          "text": [
            "0 => 8.586614164\n",
            "1 => 8.901574794\n",
            "2 => 8.96456692\n",
            "3 => 9.326771643999999\n",
            "4 => 8.980314951\n",
            "0.3622047239999997\n",
            "Test 1 passed\n"
          ],
          "name": "stdout"
        }
      ]
    },
    {
      "cell_type": "markdown",
      "metadata": {
        "id": "NemW25XkptxM"
      },
      "source": [
        "---\n",
        "## Calculate the smallest change from one year to the next in the entire list\n",
        "The change would be indicated by subtracting the preceding level from this level\n",
        "\n"
      ]
    },
    {
      "cell_type": "code",
      "metadata": {
        "id": "2h48-IUEp6Lm"
      },
      "source": [
        "def get_smallest_change(level1, level2, level3, level4, level5):\n",
        "  #  add your code below here to find the highest change from one year to the next, then run to test it\n",
        "\n",
        "\n",
        "\n",
        "# Tests\n",
        "# levels to use 8.586614164, 8.901574794, 8.96456692, 9.326771643999999, 8.980314951\n",
        "# Test 1 - smallest year on year change\n",
        "if get_smallest_change(8.586614164, 8.901574794, 8.96456692, 9.326771643999999, 8.980314951) == -0.3464566929999986:\n",
        "  print(\"Test 1 passed\")\n",
        "else:\n",
        "  print(\"Test 1 failed\")"
      ],
      "execution_count": null,
      "outputs": []
    },
    {
      "cell_type": "markdown",
      "metadata": {
        "id": "v0HvxfQgrUIL"
      },
      "source": [
        "---\n",
        "### Calculate in how many years did the sea level fall rather than rise\n"
      ]
    },
    {
      "cell_type": "code",
      "metadata": {
        "id": "G8J3PjjQrdw9"
      },
      "source": [
        "def find_total_fall_years(level1, level2, level3, level4, level5):\n",
        "  # add your code below here to find the number of years the sea level fell, then run to test it\n",
        "\n",
        "\n",
        "\n",
        "\n",
        "# Tests\n",
        "# levels to use 8.586614164, 8.901574794, 8.96456692, 9.326771643999999, 8.980314951\n",
        "# Test 1 - number of years sea levels fell\n",
        "if find_total_fall_years(8.586614164, 8.901574794, 8.96456692, 9.326771643999999, 8.980314951) == 1:\n",
        "  print(\"Test 1 passed\")\n",
        "else:\n",
        "  print(\"Test 1 failed\")"
      ],
      "execution_count": null,
      "outputs": []
    },
    {
      "cell_type": "markdown",
      "metadata": {
        "id": "i0nL_m-ksjGk"
      },
      "source": [
        "---\n",
        "## Find the year that the sea was at the highest above 1880 levels\n",
        "(the data represents annual rises since 1880, with the first value being the level for 2009)"
      ]
    },
    {
      "cell_type": "code",
      "metadata": {
        "id": "c9-jRqwFsuDU"
      },
      "source": [
        "def find_highest_year(level1, level2, level3, level4, level5):\n",
        "  #  add your code below here to find the highest level above 1880 levels\n",
        "\n",
        "\n",
        "\n",
        "# Tests\n",
        "# levels to use 8.586614164, 8.901574794, 8.96456692, 9.326771643999999, 8.980314951\n",
        "# Test 1 - year of highest level above 1880 level\n",
        "if find_highest_year(8.586614164, 8.901574794, 8.96456692, 9.326771643999999, 8.980314951) == 2012:\n",
        "  print(\"Test 1 passed\")\n",
        "else:\n",
        "  print(\"Test 1 failed\")"
      ],
      "execution_count": null,
      "outputs": []
    },
    {
      "cell_type": "markdown",
      "metadata": {
        "id": "pTUg4A9St8Us"
      },
      "source": [
        "---\n",
        "## Calculate the average rise in level per year and predict the rise above 1880 levels for a given year"
      ]
    },
    {
      "cell_type": "code",
      "metadata": {
        "id": "drX8yepludvY"
      },
      "source": [
        "from datetime import datetime\n",
        "\n",
        "def predict_level(level1, level2, level3, level4, level5, year):\n",
        "  #  add your code below here to find the average rise per year and predict rise from 1880 for given year\n",
        "  #  if the year is before 2009, return -1\n",
        "\n",
        "\n",
        "\n",
        "# Tests\n",
        "# levels to use 8.586614164, 8.901574794, 8.96456692, 9.326771643999999, 8.980314951\n",
        "# Test 1 - prediction for 2021\n",
        "if predict_level(8.586614164, 8.901574794, 8.96456692, 9.326771643999999, 8.980314951, 2021) == 13.877952741750008:\n",
        "  print(\"Test 1 passed\")\n",
        "else:\n",
        "  print(\"Test 1 failed\")\n",
        "# Test 2 - prediction for 2050\n",
        "if predict_level(8.586614164, 8.901574794, 8.96456692, 9.326771643999999, 8.980314951, 2050) == 16.73228344750001:\n",
        "  print(\"Test 2 passed\")\n",
        "else:\n",
        "  print(\"Test 2 failed\")\n",
        "# Test 3 - prediction for 2005\n",
        "if predict_level(8.586614164, 8.901574794, 8.96456692, 9.326771643999999, 8.980314951,2005) == -1:\n",
        "  print(\"Test 3 passed\")\n",
        "else:\n",
        "  print(\"Test 3 failed\")"
      ],
      "execution_count": null,
      "outputs": []
    }
  ]
}