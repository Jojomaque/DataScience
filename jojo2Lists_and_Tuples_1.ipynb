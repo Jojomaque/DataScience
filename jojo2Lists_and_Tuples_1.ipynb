{
  "nbformat": 4,
  "nbformat_minor": 0,
  "metadata": {
    "colab": {
      "name": "jojo2Lists and Tuples 1.ipynb",
      "provenance": [],
      "collapsed_sections": [],
      "include_colab_link": true
    },
    "kernelspec": {
      "name": "python3",
      "display_name": "Python 3"
    },
    "language_info": {
      "name": "python"
    }
  },
  "cells": [
    {
      "cell_type": "markdown",
      "metadata": {
        "id": "view-in-github",
        "colab_type": "text"
      },
      "source": [
        "<a href=\"https://colab.research.google.com/github/Jojomaque/DataScience/blob/main/jojo2Lists_and_Tuples_1.ipynb\" target=\"_parent\"><img src=\"https://colab.research.google.com/assets/colab-badge.svg\" alt=\"Open In Colab\"/></a>"
      ]
    },
    {
      "cell_type": "markdown",
      "metadata": {
        "id": "Z-M-RCWATK71"
      },
      "source": [
        "# Lists and tuples\n",
        "\n",
        "Often we need to store a number of single items of data together so that they can be processed together. This might be because all the data refers to one person (e.g. name, age, gender, etc) OR it might be because we have a set of data (e.g. all the items that should be displayed in a drop down list, such as all the years from this year back to 100 years ago so that someone can select their year of birth)\n",
        "\n",
        "Python has a range of data structures available including:\n",
        "*   lists  \n",
        "*   tuples  \n",
        "*   dictionaries  \n",
        "*   sets\n",
        "\n",
        "This worksheet looks at lists and tuples.\n",
        "\n",
        "## List\n",
        "A list is a set of related, individual data objects, that are indexed and can be processed as a whole, as subsets or as individual items.  Lists are stored, essentially, as contiguous items in memory so that access can be as quick as possible.  However, they are mutable (they can be changed after they are created and stored) and so those mechanisms need to include extra functionality to deal with changing list sizes.\n",
        "\n",
        "## Tuple\n",
        "Essentially the same as a list but it is immutable.  Once it has been created it can't be changed.  It is stored in memory as contiguous items, with the size required being fixed right from the start.  This makes it faster to access.\n",
        "\n",
        "The code below will create two lists and a tuple.\n",
        "*   the first list contains 1000 random numbers between 1 and 100\n",
        "*   the second list is of random length (up to 5000) and each item is one of the 9 characteristics that are protected under the Equality Act in the UK.\n",
        "*   the tuple contains the 9 protected characteristics\n",
        "\n",
        "Before you start the exercises, run the code below.  It will generate the lists and tuple so that you can use them in the exercises.  If you need to recreate the lists again (because you have changed them and need to work on the originals, just run this cell again).\n",
        "\n",
        "***Note:***  *a list variable contains a reference to the start of the list in memory, rather than storing the list itself.  This means that if you assign the list to another variable (to make a copy), it will only copy across the reference.  If you change the copy, you change the original list.*\n",
        "\n",
        "*If you need to make a copy of the list you will need to use a loop to create a new list and copy all items across.*"
      ]
    },
    {
      "cell_type": "code",
      "metadata": {
        "id": "BDRckXeQXFMT"
      },
      "source": [
        "from random import randint, choice\n",
        "\n",
        "def get_num_list():\n",
        "  num_list = [randint(1,100) for n in range(1000)]\n",
        "  return num_list\n",
        "\n",
        "def get_protected_characteristics():\n",
        "  characteristics_tuple = ('age','disability','gender reassignment','marriage and civil partnership','pregnancy and maternity','race','religion or belief','sex','sexual orientation')\n",
        "  return characteristics_tuple\n",
        "\n",
        "def get_protected_characteristic_list(protected_characteristics):\n",
        "  char_list = [choice(protected_characteristics) for ch in range(randint(1,5000))]\n",
        "  return char_list\n",
        "\n",
        "nums = get_num_list()\n",
        "protected_characteristics = get_protected_characteristics()\n",
        "characteristics = get_protected_characteristic_list(protected_characteristics)"
      ],
      "execution_count": 46,
      "outputs": []
    },
    {
      "cell_type": "markdown",
      "metadata": {
        "id": "xXT38-4ZV45n"
      },
      "source": [
        "## The exercises below will use the lists:  \n",
        "*   **nums** (a list of between 1 and 1000 random numbers, each number is between 0 and 1000)\n",
        "*   **characteristics** (a list of 5000 random protected_characteristics)\n",
        "\n",
        "and the tuple:\n",
        "*  **protected_characteristics** (a set of the 9 protected characteristics identified in the Equality Act)\n",
        "\n",
        "## You can run the cell above any number of times to generate new lists."
      ]
    },
    {
      "cell_type": "markdown",
      "metadata": {
        "id": "Ft0dXl7fUuaK"
      },
      "source": [
        "---\n",
        "### Exercise 1 - list head, tail and shape\n",
        "\n",
        "Write a function, **describe_list()** which will:\n",
        "*  print the length of the list `nums`\n",
        "*  print the first 10 items in `nums`  \n",
        "*  print the last 5 items in `nums`"
      ]
    },
    {
      "cell_type": "code",
      "metadata": {
        "id": "jUcZD7mmTJdA",
        "colab": {
          "base_uri": "https://localhost:8080/"
        },
        "outputId": "66d507ce-dfc8-4838-a41f-51e35367e3eb"
      },
      "source": [
        "from random import randint, choice\n",
        "def describe_list(my_list):\n",
        "  # nums = [randint(1,100) for n in range(1000)]\n",
        "  print(my_list)\n",
        "  print(my_list[0:10])\n",
        "  print(my_list[-5:])\n",
        "  print(len(my_list))\n",
        "\n",
        "describe_list(nums)\n",
        "describe_list(['apple', 'banana', 'lemon', 'strawberry', 'cherry', 'pear', 'kiwi', 'melon'])\n"
      ],
      "execution_count": null,
      "outputs": [
        {
          "output_type": "stream",
          "text": [
            "[92, 93, 78, 91, 65, 37, 91, 67, 67, 64, 49, 38, 13, 99, 66, 76, 35, 76, 24, 77, 68, 2, 27, 15, 80, 46, 71, 45, 61, 75, 46, 82, 70, 1, 86, 75, 49, 25, 41, 48, 9, 24, 20, 58, 98, 31, 36, 6, 31, 21, 96, 3, 39, 83, 13, 86, 52, 66, 4, 63, 45, 57, 4, 61, 25, 17, 2, 39, 52, 45, 2, 100, 54, 81, 8, 99, 72, 25, 33, 59, 47, 78, 42, 38, 93, 17, 27, 45, 31, 47, 3, 64, 27, 41, 61, 86, 6, 88, 24, 65, 87, 72, 81, 6, 51, 19, 73, 16, 84, 64, 32, 91, 91, 30, 67, 54, 59, 92, 2, 71, 13, 60, 45, 31, 100, 92, 23, 85, 3, 65, 98, 42, 10, 45, 57, 11, 80, 18, 39, 34, 50, 60, 17, 15, 9, 44, 83, 3, 44, 28, 71, 3, 15, 28, 8, 27, 51, 13, 36, 77, 3, 90, 67, 13, 17, 39, 2, 72, 16, 17, 1, 11, 61, 57, 9, 97, 59, 47, 59, 78, 45, 86, 93, 67, 36, 40, 86, 85, 94, 16, 27, 45, 4, 88, 6, 2, 23, 17, 62, 99, 61, 42, 93, 87, 69, 22, 11, 8, 79, 91, 68, 44, 20, 71, 31, 47, 44, 15, 53, 62, 96, 70, 35, 81, 30, 32, 17, 97, 68, 6, 74, 71, 90, 56, 70, 9, 7, 75, 64, 76, 38, 92, 69, 70, 83, 27, 23, 22, 74, 71, 50, 16, 43, 74, 47, 59, 37, 76, 92, 43, 84, 53, 62, 98, 47, 47, 43, 81, 22, 20, 77, 84, 42, 60, 89, 81, 51, 93, 80, 81, 76, 76, 75, 1, 11, 92, 38, 58, 4, 88, 97, 78, 16, 27, 30, 24, 5, 46, 67, 96, 32, 74, 40, 19, 50, 10, 96, 32, 3, 88, 34, 32, 70, 79, 34, 37, 84, 98, 15, 8, 55, 69, 83, 85, 44, 7, 5, 99, 40, 85, 92, 67, 60, 32, 51, 1, 98, 54, 4, 47, 60, 76, 38, 14, 41, 24, 33, 73, 41, 78, 71, 17, 93, 98, 14, 18, 54, 86, 99, 17, 42, 76, 70, 43, 74, 53, 87, 65, 29, 39, 14, 83, 41, 21, 10, 6, 46, 68, 4, 21, 83, 49, 26, 10, 52, 97, 90, 57, 98, 99, 71, 30, 50, 47, 86, 52, 33, 38, 29, 75, 59, 51, 8, 47, 5, 91, 33, 11, 18, 60, 61, 75, 80, 35, 26, 70, 74, 36, 75, 54, 18, 26, 27, 24, 47, 13, 25, 33, 97, 21, 30, 50, 66, 42, 94, 52, 12, 99, 93, 31, 88, 77, 74, 85, 36, 36, 60, 71, 75, 3, 47, 29, 52, 62, 27, 2, 15, 49, 6, 7, 83, 31, 14, 86, 94, 67, 92, 47, 87, 61, 30, 65, 77, 7, 80, 40, 24, 21, 68, 19, 81, 6, 97, 64, 62, 54, 57, 89, 72, 10, 18, 57, 42, 49, 26, 48, 24, 47, 28, 5, 78, 87, 95, 36, 76, 4, 11, 69, 32, 59, 97, 11, 59, 18, 86, 67, 89, 2, 36, 50, 36, 87, 32, 71, 67, 85, 33, 76, 47, 47, 96, 65, 13, 71, 60, 24, 8, 64, 87, 22, 37, 20, 61, 90, 2, 33, 91, 42, 70, 100, 23, 80, 61, 66, 75, 71, 51, 68, 78, 91, 69, 62, 48, 27, 10, 50, 17, 70, 52, 76, 79, 23, 50, 11, 23, 32, 89, 8, 92, 78, 5, 6, 88, 24, 35, 18, 35, 34, 9, 47, 21, 30, 3, 54, 93, 85, 71, 66, 27, 70, 12, 30, 17, 99, 88, 87, 43, 97, 16, 46, 64, 65, 70, 75, 4, 91, 23, 84, 94, 8, 67, 90, 51, 25, 50, 9, 96, 9, 49, 57, 52, 92, 24, 86, 11, 95, 50, 56, 33, 92, 43, 23, 33, 41, 26, 34, 43, 30, 42, 38, 46, 19, 86, 54, 68, 33, 32, 78, 87, 96, 82, 13, 60, 55, 71, 63, 74, 88, 78, 19, 85, 45, 22, 34, 78, 35, 75, 49, 18, 63, 66, 88, 68, 84, 74, 49, 86, 93, 72, 45, 80, 71, 10, 53, 84, 72, 67, 13, 31, 54, 96, 47, 81, 3, 99, 47, 10, 77, 37, 89, 6, 97, 42, 53, 42, 58, 72, 88, 36, 60, 97, 68, 66, 24, 79, 78, 3, 34, 17, 41, 60, 9, 69, 36, 86, 54, 10, 92, 48, 71, 66, 37, 26, 54, 54, 90, 28, 1, 87, 80, 93, 99, 70, 1, 98, 24, 15, 31, 69, 31, 5, 88, 17, 14, 32, 76, 37, 24, 63, 36, 85, 66, 63, 18, 79, 44, 56, 45, 25, 22, 14, 59, 34, 33, 1, 95, 1, 24, 69, 25, 53, 23, 33, 84, 19, 55, 7, 83, 29, 81, 39, 91, 85, 64, 53, 77, 60, 10, 44, 52, 69, 80, 63, 25, 26, 28, 55, 38, 41, 35, 100, 71, 46, 54, 17, 80, 49, 63, 43, 54, 52, 80, 89, 55, 91, 80, 43, 64, 1, 40, 68, 56, 24, 40, 35, 44, 12, 20, 55, 1, 59, 80, 82, 60, 43, 95, 36, 23, 59, 42, 50, 53, 74, 37, 94, 41, 60, 5, 91, 25, 72, 37, 29, 65, 48, 73, 25, 40, 53, 80, 7, 1, 12, 68, 2, 93, 73, 95, 14, 89, 53, 1, 46, 42, 56, 56, 8, 40, 13, 41, 6, 75, 82, 95, 40, 2, 49, 25, 100, 66, 35, 43, 29, 20, 64, 59, 54, 92, 4, 51, 65, 26, 40, 38, 91, 71, 85, 1, 43, 68, 72, 84, 56, 23, 20, 84, 66, 38, 85, 95, 94, 52, 45, 81, 72, 16, 100, 13, 49, 37, 78, 88, 12, 3, 85, 1, 56, 35, 41, 49, 21, 40, 10, 49, 16, 15, 6, 10, 96, 78, 29, 73, 2, 66, 97, 20, 64, 84, 81, 39, 55, 80, 50, 28, 56, 22, 12, 65, 11, 88, 21, 73, 95, 21, 96, 45, 89, 19, 88, 67]\n",
            "[92, 93, 78, 91, 65, 37, 91, 67, 67, 64]\n",
            "[45, 89, 19, 88, 67]\n",
            "1000\n",
            "['apple', 'banana', 'lemon', 'strawberry', 'cherry', 'pear', 'kiwi', 'melon']\n",
            "['apple', 'banana', 'lemon', 'strawberry', 'cherry', 'pear', 'kiwi', 'melon']\n",
            "['strawberry', 'cherry', 'pear', 'kiwi', 'melon']\n",
            "8\n"
          ],
          "name": "stdout"
        }
      ]
    },
    {
      "cell_type": "markdown",
      "metadata": {
        "id": "yNWg08k6bXv0"
      },
      "source": [
        "---\n",
        "### Exercise 2 - show tuple items\n",
        "\n",
        "Write a function which will:\n",
        "*   use a loop to print the list of protected characteristics from the `protected_characteristics` tuple.\n"
      ]
    },
    {
      "cell_type": "code",
      "metadata": {
        "id": "P2HnCG9pb1BS",
        "colab": {
          "base_uri": "https://localhost:8080/"
        },
        "outputId": "b2003064-e1a6-4bc5-fd46-0a2c6fa93b2b"
      },
      "source": [
        "def get_protected_characteristics():\n",
        "  for x in protected_characteristics:\n",
        "    print(x)\n",
        "get_protected_characteristics()"
      ],
      "execution_count": null,
      "outputs": [
        {
          "output_type": "stream",
          "text": [
            "age\n",
            "disability\n",
            "gender reassignment\n",
            "marriage and civil partnership\n",
            "pregnancy and maternity\n",
            "race\n",
            "religion or belief\n",
            "sex\n",
            "sexual orientation\n"
          ],
          "name": "stdout"
        }
      ]
    },
    {
      "cell_type": "markdown",
      "metadata": {
        "id": "RTSuQZs4b1JU"
      },
      "source": [
        "---\n",
        "### Exercise 3 - list a random subset\n",
        "\n",
        "Write a function which will:\n",
        "*  calculate the position of the middle item in the `characteristics` list   \n",
        "(*Hint: use len() to help with this*)\n",
        "*  calculate the position of the item that is 5 places before the middle item\n",
        "*  calculate the position of the item that is 5 places after the middle item\n",
        "*  print the part of the list that includes the items from 5 places before to 5 places after.  \n",
        "\n",
        "Expected output:  \n",
        "Your list will include 11 items."
      ]
    },
    {
      "cell_type": "code",
      "metadata": {
        "id": "OwhFnH2kdC11",
        "colab": {
          "base_uri": "https://localhost:8080/"
        },
        "outputId": "f6c5e3ea-e6ae-4d8e-de97-495b42e29d89"
      },
      "source": [
        "def get_protected_characteristics():\n",
        "  mid_item =  len(characteristics) // 2\n",
        "  five_before = mid_item - 5\n",
        "  five_after = mid_item + 5\n",
        "  return characteristics[five_before:five_after + 1]\n",
        "  \n",
        "get_protected_characteristics()"
      ],
      "execution_count": null,
      "outputs": [
        {
          "output_type": "execute_result",
          "data": {
            "text/plain": [
              "['marriage and civil partnership',\n",
              " 'gender reassignment',\n",
              " 'sexual orientation',\n",
              " 'pregnancy and maternity',\n",
              " 'race',\n",
              " 'marriage and civil partnership',\n",
              " 'sex',\n",
              " 'religion or belief',\n",
              " 'disability',\n",
              " 'pregnancy and maternity',\n",
              " 'religion or belief']"
            ]
          },
          "metadata": {
            "tags": []
          },
          "execution_count": 38
        }
      ]
    },
    {
      "cell_type": "markdown",
      "metadata": {
        "id": "KS0x3oFNePI9"
      },
      "source": [
        "---\n",
        "### Exercise 4 - create a copy\n",
        "\n",
        "Write a function which will: use a for loop to create a copy of the `nums` list:\n",
        "\n",
        "*   create a new, empty, list called **new_nums**  (*Hint: an empty list is [ ]*)\n",
        "*   use a for loop which uses the following syntax:  `for num in nums:`\n",
        "*   each time round the loop append `num` to `new_nums`  ( *`new_nums.append(num)`*)\n",
        "*   print the first 10 items of `new_nums`\n",
        "*   print the first 10 items of `nums`\n",
        "*   print the length of both lists"
      ]
    },
    {
      "cell_type": "code",
      "metadata": {
        "id": "mpK1Ip3we-uC",
        "colab": {
          "base_uri": "https://localhost:8080/"
        },
        "outputId": "df851673-6a57-4167-ba5f-abbaba632f7b"
      },
      "source": [
        "def get_new_list():\n",
        "  new_nums = []\n",
        "  for num in nums:\n",
        "      new_nums.append(num)\n",
        "  #otherways to copy\n",
        "  #example = nums.copy()\n",
        "  #example_2 = [val for val in nums]\n",
        "\n",
        "  #return new_nums\n",
        "  print(nums[:10])\n",
        "  print(new_nums[:10])\n",
        "  print(len(nums),len(new_nums))\n",
        "get_new_list()\n"
      ],
      "execution_count": null,
      "outputs": [
        {
          "output_type": "stream",
          "text": [
            "[8, 83, 16, 66, 34, 45, 48, 87, 81, 3]\n",
            "[8, 83, 16, 66, 34, 45, 48, 87, 81, 3]\n",
            "1000 1000\n"
          ],
          "name": "stdout"
        }
      ]
    },
    {
      "cell_type": "markdown",
      "metadata": {
        "id": "deUIFWjRe-3G"
      },
      "source": [
        "\n",
        "\n",
        "```\n",
        "# This is formatted as code\n",
        "```\n",
        "\n",
        "---\n",
        "### Exercise 5 - count the occurrence of age in characteristics\n",
        "\n",
        "Write a function which will use the list method:\n",
        "\n",
        "`list_name.count(item)`\n",
        "\n",
        "to count the number of occurrences of 'age' in the `characteristics` list.  Print the result."
      ]
    },
    {
      "cell_type": "code",
      "metadata": {
        "id": "b9TrHQ9hfoIU",
        "colab": {
          "base_uri": "https://localhost:8080/"
        },
        "outputId": "b87eab49-1e54-46d9-c21a-474e833c1395"
      },
      "source": [
        "characteristics_tuple = protected_characteristics\n",
        "characteristics_list = characteristics\n",
        "print(protected_characteristics)\n",
        "\n",
        "characteristic = protected_characteristics[1]\n",
        "\n",
        "print(characteristics.count(characteristic)) #count the number of items in characteristics\n"
      ],
      "execution_count": null,
      "outputs": [
        {
          "output_type": "stream",
          "text": [
            "('age', 'disability', 'gender reassignment', 'marriage and civil partnership', 'pregnancy and maternity', 'race', 'religion or belief', 'sex', 'sexual orientation')\n",
            "167\n"
          ],
          "name": "stdout"
        }
      ]
    },
    {
      "cell_type": "markdown",
      "metadata": {
        "id": "zm2VI5RmfoSy"
      },
      "source": [
        "---\n",
        "### Exercise 6 - sort the nums list\n",
        "\n",
        "Write a function which will:\n",
        "*   call the function `get_num_list()` and store the result in a new list called **sort_nums**\n",
        "*   print the first, and last, 20 items in the `sort_nums` list\n",
        "*   use the `list_name.sort()` method to sort the `sort_nums` list into ascending order\n",
        "*   print the first, and last, 20 items again  \n",
        "*   use the `list_name.sort()` method again to sort the `sort_nums` list into descending order\n",
        "*   print the first, and last, 20 items again"
      ]
    },
    {
      "cell_type": "code",
      "metadata": {
        "id": "Fksgpj9JgWDs",
        "outputId": "9da77a99-f404-4727-eb28-a07a6923f5aa",
        "colab": {
          "base_uri": "https://localhost:8080/"
        }
      },
      "source": [
        "def sort_num_list():\n",
        "   sort_nums = get_num_list()\n",
        "   print(sort_nums[:20], sort_nums[-20:])\n",
        "   sort_nums.sort()\n",
        "   print(sort_nums[:20], sort_nums[-20:])\n",
        "   sort_nums.sort(reverse=True) \n",
        "   print(sort_nums[:20], sort_nums[-20:])\n",
        "sort_num_list()\n",
        "  "
      ],
      "execution_count": 55,
      "outputs": [
        {
          "output_type": "stream",
          "text": [
            "[86, 97, 6, 2, 23, 7, 50, 77, 12, 77, 26, 1, 36, 47, 77, 73, 90, 15, 39, 49] [51, 98, 32, 1, 1, 29, 80, 45, 94, 3, 72, 45, 38, 9, 19, 53, 13, 9, 74, 70]\n",
            "[1, 1, 1, 1, 1, 1, 1, 1, 1, 1, 1, 1, 1, 2, 2, 2, 2, 2, 2, 2] [99, 99, 99, 99, 99, 99, 99, 99, 99, 99, 99, 100, 100, 100, 100, 100, 100, 100, 100, 100]\n",
            "[100, 100, 100, 100, 100, 100, 100, 100, 100, 99, 99, 99, 99, 99, 99, 99, 99, 99, 99, 99] [2, 2, 2, 2, 2, 2, 2, 1, 1, 1, 1, 1, 1, 1, 1, 1, 1, 1, 1, 1]\n"
          ],
          "name": "stdout"
        }
      ]
    },
    {
      "cell_type": "markdown",
      "metadata": {
        "id": "_OF-Xuj1UrW0"
      },
      "source": [
        "---\n",
        "### Exercise 7 - get statistics (max(), min(), sum() )\n",
        "\n",
        "Write a function which will:\n",
        "*   print the maximum and minimum numbers in the `nums` list  \n",
        "*   print the sum of the `nums` list\n",
        "*   calculate and print the average of the `nums` list (using `len()` to help)"
      ]
    },
    {
      "cell_type": "code",
      "metadata": {
        "id": "9YmYMenZVGod"
      },
      "source": [
        ""
      ],
      "execution_count": null,
      "outputs": []
    },
    {
      "cell_type": "markdown",
      "metadata": {
        "id": "Mn4tHQ_KVbHa"
      },
      "source": [
        "---\n",
        "### Exercise 8 - percentage difference\n",
        "\n",
        "Write a function which will:\n",
        "*   generate a new list called **ex8_nums** using `get_num_list()`\n",
        "*   calculate and print the percentage of the first number in `ex8_nums` that is the difference between it and the first number in `nums` (subtract **ex8_num** from **num**, divide by `nums` and multiply by 100)\n",
        "*   calculate and print the percentage difference between the last numbers in each list in the same way\n",
        "*   calculate and print the percentage difference between the middle numbers in each list in the same way.\n",
        "*   calculate and print the percentage difference between the sums of each list in the same way"
      ]
    },
    {
      "cell_type": "code",
      "metadata": {
        "id": "jYh5Xj7zpLP-",
        "outputId": "68a1fc64-4af6-4139-81a1-be682312b118",
        "colab": {
          "base_uri": "https://localhost:8080/"
        }
      },
      "source": [
        "ex8_nums = get_num_list()\n",
        "percent_first = (nums[0] - ex8_nums[0]) / nums[0] * 100\n",
        "print(round(percent_first,2))\n",
        "percent_last = (nums[-1] - ex8_nums[-1]) / nums[-1] * 100\n",
        "print(round(percent_last,2))"
      ],
      "execution_count": 62,
      "outputs": [
        {
          "output_type": "stream",
          "text": [
            "43.14\n",
            "71.05\n"
          ],
          "name": "stdout"
        }
      ]
    },
    {
      "cell_type": "markdown",
      "metadata": {
        "id": "HNs3lZmYawFO"
      },
      "source": [
        "---\n",
        "### Exercise 9 - characteristic counts\n",
        "\n",
        "Write a function which will:\n",
        "*  iterate through the `protected_characteristics` tuple and for each **characteristic**:\n",
        "*   *   count the number of occurrences of that `characteristic` in the `characteristics` list\n",
        "*   *   print the `protected_characteristic` and the **count**  \n",
        "\n",
        "Example expected output:\n",
        "\n",
        "age 100  \n",
        "disability 120  \n",
        "gender reassignment 120  \n",
        "marriage and civil partnership 111  \n",
        "pregnancy and maternity 103  \n",
        "race 106  \n",
        "religion or belief 95  \n",
        "sex 110  \n",
        "sexual orientation 113  \n",
        "\n",
        "Extra learning:  you can read [here](https://thispointer.com/python-how-to-pad-strings-with-zero-space-or-some-other-character/) how to justify the printed characteristic so that the output is organised into two columns as shown below:  \n",
        "![tabulated output](https://drive.google.com/uc?id=1CCXfX6K5ZeDefnq7vUsqxCDmqvcfY8Mz)\n",
        "\n",
        "\n",
        "\n"
      ]
    },
    {
      "cell_type": "code",
      "metadata": {
        "id": "GURT11albqUs",
        "colab": {
          "base_uri": "https://localhost:8080/"
        },
        "outputId": "73b24e8c-b0d3-419f-847f-afd9b1e22654"
      },
      "source": [
        "characteristics_tuple = protected_characteristics\n",
        "characteristics_list = characteristics\n",
        "print(protected_characteristics)\n",
        "\n",
        "characteristic = protected_characteristics[1]\n",
        "for x in characteristics_tuple:\n",
        "  fre_quency = (x,characteristics_list.count(x))\n",
        "  print(fre_quency)"
      ],
      "execution_count": null,
      "outputs": [
        {
          "output_type": "stream",
          "text": [
            "('age', 'disability', 'gender reassignment', 'marriage and civil partnership', 'pregnancy and maternity', 'race', 'religion or belief', 'sex', 'sexual orientation')\n",
            "('age', 184)\n",
            "('disability', 167)\n",
            "('gender reassignment', 175)\n",
            "('marriage and civil partnership', 206)\n",
            "('pregnancy and maternity', 161)\n",
            "('race', 187)\n",
            "('religion or belief', 174)\n",
            "('sex', 187)\n",
            "('sexual orientation', 164)\n"
          ],
          "name": "stdout"
        }
      ]
    },
    {
      "cell_type": "markdown",
      "metadata": {
        "id": "9Po7yQj-ds38"
      },
      "source": [
        "---\n",
        "### Exercise 10 - characteristics statistics\n",
        "\n",
        "Assuming that the `characteristics` list may have been taken from a study of cases that have been taken to court in relation to the Equality Act.  \n",
        "\n",
        "Write a function which will:\n",
        "\n",
        "*   find the most common characteristic resulting in court action, from this population\n",
        "*   print this in a message, e.g. The characteristic with the highest number of court cases is:  *characteristic*\n",
        "*   print the list of `protected_characteristics`, on one line if possible - see [here](https://www.geeksforgeeks.org/g-fact-25-print-single-multiple-variable-python/)\n",
        "*   ask the user to enter a characteristic that they would like to see statistics on and use a while loop to continue until the user has entered a valid characteristic\n",
        "*   print the characteristic, its frequency and the percentage that this frequency is of the whole population."
      ]
    },
    {
      "cell_type": "code",
      "metadata": {
        "id": "uk_I5z7UgbDs",
        "colab": {
          "base_uri": "https://localhost:8080/"
        },
        "outputId": "34ca4154-d60d-4f01-fbd6-dba34a90b7b3"
      },
      "source": [
        "characteristics_tuple = protected_characteristics\n",
        "characteristics_list = characteristics\n",
        "print(protected_characteristics)\n",
        "\n",
        "characteristic = protected_characteristics[1]\n",
        "frequency = 0\n",
        "char = \"\"\n",
        "total = 0\n",
        "for x in characteristics_tuple:\n",
        "  print((x,characteristics_list.count(x)))\n",
        "  total += characteristics_list.count(x)\n",
        "  if frequency < characteristics_list.count(x):\n",
        "    frequency = characteristics_list.count(x)\n",
        "    char = x\n",
        "\n",
        "print(\"The characteristic with the highest number of court cases is characteristic\", char,frequency)\n",
        "print(characteristics_tuple)\n",
        "\n",
        "while True:\n",
        "  user_input = input(\"Please enter a characteristic that you would like to see statistics on\")\n",
        "  if user_input in characteristics_tuple:\n",
        "    percent = characteristics_list.count(user_input) * 100 / total\n",
        "    print(user_input,characteristics_list.count(user_input), percent)\n",
        "    break\n"
      ],
      "execution_count": null,
      "outputs": [
        {
          "output_type": "stream",
          "text": [
            "('age', 'disability', 'gender reassignment', 'marriage and civil partnership', 'pregnancy and maternity', 'race', 'religion or belief', 'sex', 'sexual orientation')\n",
            "('age', 184)\n",
            "('disability', 167)\n",
            "('gender reassignment', 175)\n",
            "('marriage and civil partnership', 206)\n",
            "('pregnancy and maternity', 161)\n",
            "('race', 187)\n",
            "('religion or belief', 174)\n",
            "('sex', 187)\n",
            "('sexual orientation', 164)\n",
            "The characteristic with the highest number of court cases is characteristic marriage and civil partnership 206\n",
            "('age', 'disability', 'gender reassignment', 'marriage and civil partnership', 'pregnancy and maternity', 'race', 'religion or belief', 'sex', 'sexual orientation')\n",
            "Please enter a characteristic that you would like to see statistics onrace\n",
            "race 187 11.651090342679128\n"
          ],
          "name": "stdout"
        }
      ]
    },
    {
      "cell_type": "code",
      "metadata": {
        "id": "CYLwCbhtpGTB"
      },
      "source": [
        ""
      ],
      "execution_count": null,
      "outputs": []
    }
  ]
}