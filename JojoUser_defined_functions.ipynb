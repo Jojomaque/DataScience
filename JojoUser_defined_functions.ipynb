{
  "nbformat": 4,
  "nbformat_minor": 0,
  "metadata": {
    "colab": {
      "name": "JojoUser-defined-functions.ipynb",
      "provenance": [],
      "include_colab_link": true
    },
    "kernelspec": {
      "name": "python3",
      "display_name": "Python 3"
    },
    "language_info": {
      "name": "python"
    }
  },
  "cells": [
    {
      "cell_type": "markdown",
      "metadata": {
        "id": "view-in-github",
        "colab_type": "text"
      },
      "source": [
        "<a href=\"https://colab.research.google.com/github/Jojomaque/DataScience/blob/main/JojoUser_defined_functions.ipynb\" target=\"_parent\"><img src=\"https://colab.research.google.com/assets/colab-badge.svg\" alt=\"Open In Colab\"/></a>"
      ]
    },
    {
      "cell_type": "markdown",
      "metadata": {
        "id": "_mb8Es9TZFdY"
      },
      "source": [
        "# User-defined functions"
      ]
    },
    {
      "cell_type": "markdown",
      "metadata": {
        "id": "yDPndJACZJKA"
      },
      "source": [
        "---\n",
        "During this course, you have already been writing user-defined functions.  We have introduced these early so that they become second nature to use.  Python is a 'scripting' language, which means that you can just write a list of instructions and click run and it will just run them from first to last.\n",
        "\n",
        "Many other programming languages, including C, C++ and Java, have a structure where you must group instructions into a named set (like a function) before you can run them.  It will be easier to learn new languages later if you have an understanding of the organisation of code into functions.\n",
        "\n",
        "## Definition\n",
        "\n",
        "A function is a set of programming instructions, grouped together and named so that, in essence, they form a new instruction that can be use in other functions.\n",
        "\n",
        "A function should:\n",
        "*   do *one* particular thing (e.g. generate one new piece of data)\n",
        "*   have a *name* that indicates what it does, that name should contain a verb (e.g. get_username(), calculate_sum() )\n",
        "*   accept a number of data items as *parameters* in its brackets\n",
        "*   *return* the one new piece of data it produces or None if no new data is produced.\n",
        "\n",
        "---\n",
        "## Examples\n",
        "Run the code for each to see what it does.\n",
        "\n",
        "\n",
        "\n",
        "\n"
      ]
    },
    {
      "cell_type": "code",
      "metadata": {
        "id": "BRlxHaF9YtoB",
        "colab": {
          "base_uri": "https://localhost:8080/"
        },
        "outputId": "f700a09e-b20d-464f-f5fa-993634975fa8"
      },
      "source": [
        "def get_username():\n",
        "  username = input(\"Enter your username: \")\n",
        "  return username\n",
        "\n",
        "username = get_username()\n",
        "print(username)"
      ],
      "execution_count": null,
      "outputs": [
        {
          "output_type": "stream",
          "text": [
            "Enter your username: Jo\n",
            "Jo\n"
          ],
          "name": "stdout"
        }
      ]
    },
    {
      "cell_type": "markdown",
      "metadata": {
        "id": "RsSaHvS_bx0i"
      },
      "source": [
        "---\n"
      ]
    },
    {
      "cell_type": "code",
      "metadata": {
        "id": "DraANPGIbd13",
        "colab": {
          "base_uri": "https://localhost:8080/"
        },
        "outputId": "b7b2ef9b-a227-4415-b13d-26c1b70447f3"
      },
      "source": [
        "def calculate_sum(num1, num2):\n",
        "  sum = num1 + num2\n",
        "  return sum\n",
        "\n",
        "total = calculate_sum(4, 7)\n",
        "print(total)"
      ],
      "execution_count": null,
      "outputs": [
        {
          "output_type": "stream",
          "text": [
            "11\n"
          ],
          "name": "stdout"
        }
      ]
    },
    {
      "cell_type": "markdown",
      "metadata": {
        "id": "IaybFpHvbziA"
      },
      "source": [
        "---\n"
      ]
    },
    {
      "cell_type": "code",
      "metadata": {
        "id": "pEldozw1bw9K",
        "colab": {
          "base_uri": "https://localhost:8080/"
        },
        "outputId": "3d0e02ec-bfbb-4378-ddf1-70a85312d7fe"
      },
      "source": [
        "def show_score(score):\n",
        "  print(\"Your current score is: \", score)\n",
        "\n",
        "show_score(50)"
      ],
      "execution_count": 1,
      "outputs": [
        {
          "output_type": "stream",
          "text": [
            "Your current score is:  50\n"
          ],
          "name": "stdout"
        }
      ]
    },
    {
      "cell_type": "markdown",
      "metadata": {
        "id": "S54v0BzZfcle"
      },
      "source": [
        "---\n",
        "## Passing data to functions\n",
        "\n",
        "Data is passed to a function through its brackets.  The brackets contain the parameter list.  The list can contain zero or more parameters.\n",
        "\n",
        "When the function is called, the parameters (either real values or variables holding values) are added to the function call."
      ]
    },
    {
      "cell_type": "code",
      "metadata": {
        "id": "nPaM_x2cg2EI"
      },
      "source": [
        "def calculate_answer(num1, num2, operator):\n",
        "  if operator == \"+\":\n",
        "     return num1 + num2\n",
        "  elif operator == \"-\":\n",
        "     return num1 - num2\n",
        "  elif operator == \"*\":\n",
        "     return num1 * num2\n",
        "  elif operator == \"/\":\n",
        "     return num1 / num2\n",
        "  else:\n",
        "     return -999999\n",
        "\n",
        "answer = calculate_answer(5,7,\"+\")\n",
        "print(answer)"
      ],
      "execution_count": null,
      "outputs": []
    },
    {
      "cell_type": "markdown",
      "metadata": {
        "id": "4u3jcpUWg56N"
      },
      "source": [
        "To pass values easily to the function, just add the values in the same order that they are listed in the function definition.  Make sure that the values you pass in are of a type that the function obviously expects."
      ]
    },
    {
      "cell_type": "markdown",
      "metadata": {
        "id": "2pN0AVaTh-HP"
      },
      "source": [
        "---\n",
        "## Global and local variables\n",
        "\n",
        "Each variable in a Python program has a **scope**.  This determines which parts of the program can 'see' that variable. The advantage of variable scope is that it:\n",
        "*   can protect variables from being changed elsewhere in the program due to adding a variable with the same name\n",
        "*   reduces the number of different variable names needed.  If a total in one function is totally unconnected to a total in a different function they can have the same name and only exist while the function each is in is actually running.  This also saves on memory.\n",
        "\n"
      ]
    },
    {
      "cell_type": "code",
      "metadata": {
        "colab": {
          "base_uri": "https://localhost:8080/"
        },
        "id": "Ww0WCrVBhNLm",
        "outputId": "dd638b9a-8592-4715-b901-fe05f8da7575"
      },
      "source": [
        "def calculate_sum(num1, num2):\n",
        "  # add the parameters together and return the total\n",
        "  total = num1 + num2  # here total is a local variable\n",
        "  print(\"Inside the function, local total\", total)\n",
        "  return total\n",
        "\n",
        "total = 0  # here total is a global variable (declared outside any function)\n",
        "\n",
        "# call the calculate_sum function, storing the result in the global variable\n",
        "new_total = calculate_sum(10, 20)\n",
        "print(\"Outside the function, global total\", total)\n",
        "print(\"Outside the function, global new_total, returned from function\", new_total)"
      ],
      "execution_count": null,
      "outputs": [
        {
          "output_type": "stream",
          "text": [
            "Inside the function, local total 30\n",
            "Outside the function, global total 0\n",
            "Outside the function, global new_total, returned from function 30\n"
          ],
          "name": "stdout"
        }
      ]
    },
    {
      "cell_type": "markdown",
      "metadata": {
        "id": "VQ2bk-Qo7jC7"
      },
      "source": [
        "---\n",
        "# Have a go"
      ]
    },
    {
      "cell_type": "markdown",
      "metadata": {
        "id": "iK9GF4T274Na"
      },
      "source": [
        "---\n",
        "### Exercise 1 - get valid digit\n",
        "\n",
        "Write a function called **input_digit()** which will:\n",
        "*  ask the user for a **number** that must be between 0 and 9, if the number is not between 0 and 9 it will keep reading until it gets a valid `number`\n",
        "*  return the valid `number` to be printed by the caller \n",
        "\n",
        "Test input:  \n",
        "33  \n",
        "-1  \n",
        "8  \n",
        "\n",
        "Expected output:  \n",
        "That number is not valid, try again  \n",
        "That number is not valid, try again  \n",
        "8  "
      ]
    },
    {
      "cell_type": "code",
      "metadata": {
        "id": "lwN-VvkH8Skt",
        "colab": {
          "base_uri": "https://localhost:8080/"
        },
        "outputId": "e054e03d-4563-4ec7-c08f-ed601a6394f8"
      },
      "source": [
        "def  input_digit():\n",
        "  while True:\n",
        "    number = int(input(\"Please enter a number between 0 and 9 \"))\n",
        "    if number < 0 or number > 9:\n",
        "      print(\"That number is not valid, try again\")\n",
        "    else:\n",
        "      return number\n",
        "print(input_digit())  "
      ],
      "execution_count": 49,
      "outputs": [
        {
          "output_type": "stream",
          "text": [
            "Please enter a number between 0 and 9 -1\n",
            "That number is not valid, try again\n",
            "Please enter a number between 0 and 9 33\n",
            "That number is not valid, try again\n",
            "Please enter a number between 0 and 9 9\n",
            "9\n"
          ],
          "name": "stdout"
        }
      ]
    },
    {
      "cell_type": "markdown",
      "metadata": {
        "id": "v-qE3qQ58THx"
      },
      "source": [
        "---\n",
        "### Exercise 2 - input range\n",
        "\n",
        "Write a function called **input_value(min, max)** which will:  \n",
        "*  read a **number** that must be between `min` and `max` and only return when it has a valid `number`.  The caller will print the `number`.\n",
        "\n",
        "Test input:  \n",
        "min = 3  \n",
        "max = 24  \n",
        "1  \n",
        "45  \n",
        "20  \n",
        "\n",
        "Expected output:  \n",
        "Number is out of range, try again  \n",
        "Number is out of range, try again  \n",
        "20"
      ]
    },
    {
      "cell_type": "code",
      "metadata": {
        "id": "PKAlW0sr9XR1",
        "colab": {
          "base_uri": "https://localhost:8080/"
        },
        "outputId": "f42571e0-2251-4325-8e10-76392624a02f"
      },
      "source": [
        "def input_value(min, max):\n",
        "  while True:\n",
        "    number = int(input(\"Please enter a number: \"))\n",
        "    if number < min or number > max:\n",
        "      print(\"That number is out of range, try again\")\n",
        "    else:\n",
        "      return number\n",
        " \n",
        "print(input_value(3,24))"
      ],
      "execution_count": 94,
      "outputs": [
        {
          "output_type": "stream",
          "text": [
            "Please enter a number: 1\n",
            "That number is out of range, try again\n",
            "Please enter a number: 45\n",
            "That number is out of range, try again\n",
            "Please enter a number: 20\n",
            "20\n"
          ],
          "name": "stdout"
        }
      ]
    },
    {
      "cell_type": "markdown",
      "metadata": {
        "id": "MXhunQBG9XkU"
      },
      "source": [
        "---\n",
        "### Exercise 3 - re-using the function\n",
        "\n",
        "Using the same function as in Exercise 2 above, try running it with these function calls:\n",
        "\n",
        "```\n",
        "value1 = input_value(1,10)\n",
        "value2 = input_value(11,20)\n",
        "value3 = input_value(21,30)\n",
        "print(value1, value2, value3)\n",
        "```"
      ]
    },
    {
      "cell_type": "code",
      "metadata": {
        "id": "oVpQJ3ZM9xCJ",
        "colab": {
          "base_uri": "https://localhost:8080/"
        },
        "outputId": "56ca936e-4a58-4319-c566-200463d9bf8f"
      },
      "source": [
        "value1 = input_value(1,10)\n",
        "value2 = input_value(11,20)\n",
        "value3 = input_value(21,30)\n",
        "print(value1, value2, value3)\n"
      ],
      "execution_count": 96,
      "outputs": [
        {
          "output_type": "stream",
          "text": [
            "Please enter a number: 20\n",
            "That number is out of range, try again\n",
            "Please enter a number: 10\n",
            "Please enter a number: 9\n",
            "That number is out of range, try again\n",
            "Please enter a number: 10\n",
            "That number is out of range, try again\n",
            "Please enter a number: 12\n",
            "Please enter a number: 20\n",
            "That number is out of range, try again\n",
            "Please enter a number: 22\n",
            "10 12 22\n"
          ],
          "name": "stdout"
        }
      ]
    },
    {
      "cell_type": "markdown",
      "metadata": {
        "id": "P0QwTt7O9xUz"
      },
      "source": [
        "---\n",
        "### Exercise 4 - generate random even number\n",
        "\n",
        "Write a function called **generate_even_number()** that will generate a random, even **number** and return it to the caller, which will print it.\n",
        "\n",
        "*Hint: the function will need to generate the number, check it is an even number, repeat if not and return the number once it has got an even number*."
      ]
    },
    {
      "cell_type": "code",
      "metadata": {
        "id": "1ccTQxUa-Ok7",
        "colab": {
          "base_uri": "https://localhost:8080/"
        },
        "outputId": "a6d2eb0f-dc9e-45b1-aea4-0851d3bb44a9"
      },
      "source": [
        "from random import randint\n",
        "def generate_even_number(min, max):\n",
        "  while True:\n",
        "    number = randint(min, max)\n",
        "    if number % 2 == 0:\n",
        "      return number\n",
        "    else:\n",
        "      print(number)\n",
        "\n",
        "generate_even_number(0,100)"
      ],
      "execution_count": 110,
      "outputs": [
        {
          "output_type": "stream",
          "text": [
            "71\n"
          ],
          "name": "stdout"
        },
        {
          "output_type": "execute_result",
          "data": {
            "text/plain": [
              "38"
            ]
          },
          "metadata": {
            "tags": []
          },
          "execution_count": 110
        }
      ]
    },
    {
      "cell_type": "markdown",
      "metadata": {
        "id": "LYLGRytk-Ot6"
      },
      "source": [
        "---\n",
        "### Exercise 5 - biggest of 3 numbers\n",
        "\n",
        "Write a function called **check_largest(num1, num2, num3)** which will:  \n",
        "*  select the largest of `num1`, `num2` and `num3` and store this in a variable called **largest**\n",
        "*  return `largest` to the caller, where it will be printed. \n",
        "\n",
        "Test input:  \n",
        "check_largest(3,5,8)  \n",
        "check_largest(5,7,2)  \n",
        "check_largest(123,45,122)\n",
        "\n",
        "Expected output:  \n",
        "8  \n",
        "7  \n",
        "123  "
      ]
    },
    {
      "cell_type": "code",
      "metadata": {
        "id": "S_LeqEVd__Cc",
        "colab": {
          "base_uri": "https://localhost:8080/"
        },
        "outputId": "323389da-224f-46e8-e1a8-3d12a917be56"
      },
      "source": [
        "def check_largest(num1, num2, num3):\n",
        "  largest = max([num1,num2,num3])\n",
        "  return largest\n",
        "\n",
        "print(check_largest(3,5,8))\n",
        "print(check_largest(5,7,2))\n",
        "print(check_largest(123,45,122))"
      ],
      "execution_count": 112,
      "outputs": [
        {
          "output_type": "stream",
          "text": [
            "8\n",
            "7\n",
            "123\n"
          ],
          "name": "stdout"
        }
      ]
    },
    {
      "cell_type": "markdown",
      "metadata": {
        "id": "cbrFvknfAO05"
      },
      "source": [
        "---\n",
        "### Exercise 6 - average of 5 numbers\n",
        "\n",
        "Write a function calculate_average(num1, num2, num3, num4, num5) which will calculate the average of the 5 numbers given.  \n",
        "\n",
        "Test input:  \n",
        "calculate_average(1,2,3,4,5)  \n",
        "calculate_average(10002, 30004, 5005, 3333333, 12345)  \n",
        "\n",
        "Expected output:  \n",
        "3.0  \n",
        "678137.8"
      ]
    },
    {
      "cell_type": "code",
      "metadata": {
        "id": "BFTEfne8APF5",
        "colab": {
          "base_uri": "https://localhost:8080/"
        },
        "outputId": "110c0744-23fd-4ede-c9c0-ff5ee08ee425"
      },
      "source": [
        "def calculate_average(num1, num2, num3, num4, num5):\n",
        "  my_list = [num1, num2, num3, num4, num5]\n",
        "  return sum(my_list) / len(my_list)\n",
        "\n",
        "print(calculate_average(1,2,3,4,5))\n",
        "print(calculate_average(10002, 30004, 5005, 3333333, 12345))"
      ],
      "execution_count": 116,
      "outputs": [
        {
          "output_type": "stream",
          "text": [
            "3.0\n",
            "678137.8\n"
          ],
          "name": "stdout"
        }
      ]
    },
    {
      "cell_type": "markdown",
      "metadata": {
        "id": "Z58a7qa1BQ6j"
      },
      "source": [
        "---\n",
        "### Exercise 7 - calculate price\n",
        "\n",
        "Write a function called **calculate_price(product_price, items)** which will:\n",
        "\n",
        "*  ask the user to enter any **discount** they have (this can be 10% or 25% only), if the discount value is invalid, do not apply a discount   \n",
        "*  calculate the price of the items, including the discount\n",
        "*  return the `discounted price`\n",
        "\n",
        "Test input:  \n",
        "product_price is 3.50  \n",
        "number of items is 4  \n",
        "user enters discount of 10%  \n",
        "\n",
        "Expected output:  \n",
        "Discounted price: £ 12.60\n",
        "\n",
        "Test input:  \n",
        "product_price is 8.99  \n",
        "number of items is 10  \n",
        "user enters discount of 50%   \n",
        "\n",
        "Expected output:  \n",
        "Discounted price: £ 89.90  "
      ]
    },
    {
      "cell_type": "code",
      "metadata": {
        "id": "lSHhdyhUBRKr",
        "colab": {
          "base_uri": "https://localhost:8080/"
        },
        "outputId": "fed70aba-1b36-4092-af64-302733eca083"
      },
      "source": [
        "def calculate_price(product_price, items):\n",
        "  price = product_price * items\n",
        "  discount = int(input(\"Please enter a discount (%): \"))\n",
        "  if discount == 10 or discount == 25:\n",
        "    discounted_price = price -  (price * (discount / 100))\n",
        "    return round(discounted_price, 2)\n",
        "  else:\n",
        "    return round(price, 2)\n",
        "  \n",
        "print(\"Discounted price: £\", calculate_price(3.50, 4))\n",
        "print(\"Discounted price: £\", calculate_price(8.99, 10))\n",
        "\n"
      ],
      "execution_count": 131,
      "outputs": [
        {
          "output_type": "stream",
          "text": [
            "Please enter a discount (%): 10\n",
            "Discounted price: £ 12.6\n",
            "Please enter a discount (%): 50\n",
            "Discounted price: £ 89.9\n"
          ],
          "name": "stdout"
        }
      ]
    },
    {
      "cell_type": "markdown",
      "metadata": {
        "id": "NG2u2VT-CwO6"
      },
      "source": [
        "---\n",
        "### Exercise 8 - reverse a string\n",
        "\n",
        " Write a function called **reverse_string(word)** which will:  \n",
        " \n",
        " *  reverse the letters in the word  \n",
        " *  return the **reversed** `word` for printing\n",
        "\n",
        "[Help if you need it](https://www.w3schools.com/python/python_howto_reverse_string.asp)  \n",
        "\n",
        " Test input:  \n",
        " tiger  \n",
        "\n",
        " Expected output:  \n",
        " regit\n",
        "\n",
        " Test input:  \n",
        " Expected\n",
        "\n",
        " Expected output:  \n",
        " detcepxE"
      ]
    },
    {
      "cell_type": "code",
      "metadata": {
        "id": "OdHYWCJMCwaI",
        "colab": {
          "base_uri": "https://localhost:8080/"
        },
        "outputId": "77ecb3cb-27a3-4ce0-b520-a0a614c31abb"
      },
      "source": [
        "def reverse_string(word):\n",
        "  return word[::-1]\n",
        "\n",
        "word = input(\"Please enter a word \")\n",
        "print(reverse_string(word))\n",
        "print(reverse_string(\"tiger\"))\n",
        "print(reverse_string(\"Expected\"))\n"
      ],
      "execution_count": 21,
      "outputs": [
        {
          "output_type": "stream",
          "text": [
            "Please enter a word Bonjour\n",
            "ruojnoB\n",
            "regit\n",
            "detcepxE\n"
          ],
          "name": "stdout"
        }
      ]
    },
    {
      "cell_type": "markdown",
      "metadata": {
        "id": "QPHDjtXXEJ92"
      },
      "source": [
        "---\n",
        "### Exercise 9 - find factorial\n",
        "\n",
        "Write a function called **calculate_factorial(num)** which will:\n",
        "\n",
        "*  if `num` is negative set **factorial** to -1\n",
        "*  if `num` isn't negative, if it is 0 then set `factorial` to 1\n",
        "*  if `num` isn't 0 then calculate `factorial` (multiply the numbers from `num` down to 1\n",
        "*  return `factorial`.   \n",
        "\n",
        "Test inputs:  \n",
        "calculate_factorial(5)  \n",
        "calculate_factorial(-5)  \n",
        "calculate_factorial(0)    \n",
        "\n",
        "Expected outputs:  \n",
        "120  \n",
        "-1  \n",
        "1    "
      ]
    },
    {
      "cell_type": "code",
      "metadata": {
        "id": "QAln19ReEKH5",
        "colab": {
          "base_uri": "https://localhost:8080/"
        },
        "outputId": "bf029ded-cf09-4a26-f09a-2832c82a9137"
      },
      "source": [
        "def calculate_factorial(num):\n",
        "  if num ==0:\n",
        "    return 1\n",
        "  if num < 0:\n",
        "    return -1\n",
        "  if num>0:\n",
        "    return num*calculate_factorial(num-1)\n",
        "print(calculate_factorial(0))                   "
      ],
      "execution_count": 24,
      "outputs": [
        {
          "output_type": "stream",
          "text": [
            "1\n"
          ],
          "name": "stdout"
        }
      ]
    },
    {
      "cell_type": "markdown",
      "metadata": {
        "id": "x-JvvWUVFvY8"
      },
      "source": [
        "---\n",
        "### Exercise 10 - palindrome  \n",
        "\n",
        "Write a function called **is_palindrome(word)** which will return True if the `word` passed in is a palindrome (ie it reads the same in reverse) and False if not.\n",
        "\n",
        "*Hint:  remember that upper case and lower case letters are not seen as the same by Python, there are [case conversion](https://www.codecademy.com/learn/learn-python-3/modules/learn-python3-strings/cheatsheet) functions you can use to help with this.*\n",
        "\n",
        "Test input:  \n",
        "is_palindrome(\"racecar\")  \n",
        "is_palindrome(\"Racecar\")  \n",
        "is_palindrome(\"banana\")  \n",
        "\n",
        "Expected output:  \n",
        "True  \n",
        "True  \n",
        "False  "
      ]
    },
    {
      "cell_type": "code",
      "metadata": {
        "id": "Jx0ZSYl0FvjD",
        "colab": {
          "base_uri": "https://localhost:8080/"
        },
        "outputId": "5f8d9538-9982-4d20-ba9a-b60a2604cc6b"
      },
      "source": [
        "def is_palindrome(word):\n",
        "  reversed_word = word[::-1]\n",
        "  return reversed_word.upper() == word.upper()\n",
        "  \n",
        "print(is_palindrome(\"racecar\"))\n",
        "print(is_palindrome(\"Racecar\"))\n",
        "print(is_palindrome(\"banana\"))"
      ],
      "execution_count": 13,
      "outputs": [
        {
          "output_type": "stream",
          "text": [
            "True\n",
            "True\n",
            "False\n"
          ],
          "name": "stdout"
        }
      ]
    }
  ]
}