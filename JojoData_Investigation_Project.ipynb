{
  "nbformat": 4,
  "nbformat_minor": 0,
  "metadata": {
    "colab": {
      "name": "JojoData Investigation Project.ipynb",
      "provenance": [],
      "include_colab_link": true
    },
    "kernelspec": {
      "name": "python3",
      "display_name": "Python 3"
    },
    "language_info": {
      "name": "python"
    }
  },
  "cells": [
    {
      "cell_type": "markdown",
      "metadata": {
        "id": "view-in-github",
        "colab_type": "text"
      },
      "source": [
        "<a href=\"https://colab.research.google.com/github/Jojomaque/DataScience/blob/main/JojoData_Investigation_Project.ipynb\" target=\"_parent\"><img src=\"https://colab.research.google.com/assets/colab-badge.svg\" alt=\"Open In Colab\"/></a>"
      ]
    },
    {
      "cell_type": "markdown",
      "metadata": {
        "id": "hmwPnuX3KU5t"
      },
      "source": [
        "# Data investigation project\n",
        "---\n",
        "\n",
        "Use what you have learnt so far about reading data files and displaying rows, columns, unique values, etc, to investigate and produce some printed information from this data set: https://raw.githubusercontent.com/futureCodersSE/working-with-data/main/Data%20sets/housing_in_london_yearly_variables.csv"
      ]
    },
    {
      "cell_type": "code",
      "metadata": {
        "id": "Z1q5Ven3KUEL",
        "colab": {
          "base_uri": "https://localhost:8080/"
        },
        "outputId": "04e687e3-bb38-4b17-c0a8-545c9a9e16d4"
      },
      "source": [
        "import pandas as pd\n",
        "url = \"https://raw.githubusercontent.com/futureCodersSE/working-with-data/main/Data%20sets/housing_in_london_yearly_variables.csv\"\n",
        "df = pd.read_csv(url)\n",
        "# Viewing a sample of the dataset\n",
        "df.head(50)\n",
        "df.dtypes\n",
        "\n",
        "#issues - data cleaning\n",
        "#mean salary is not numerical\n"
      ],
      "execution_count": 10,
      "outputs": [
        {
          "output_type": "execute_result",
          "data": {
            "text/plain": [
              "code                  object\n",
              "area                  object\n",
              "date                  object\n",
              "median_salary        float64\n",
              "life_satisfaction    float64\n",
              "mean_salary           object\n",
              "recycling_pct         object\n",
              "population_size      float64\n",
              "number_of_jobs       float64\n",
              "area_size            float64\n",
              "no_of_houses         float64\n",
              "borough_flag           int64\n",
              "dtype: object"
            ]
          },
          "metadata": {
            "tags": []
          },
          "execution_count": 10
        }
      ]
    },
    {
      "cell_type": "code",
      "metadata": {
        "id": "Ik9buFdIghpz"
      },
      "source": [
        "# Finding out the min and max dates\n",
        "print(df['date'].min())\n",
        "print(df['date'].max())"
      ],
      "execution_count": null,
      "outputs": []
    },
    {
      "cell_type": "code",
      "metadata": {
        "colab": {
          "base_uri": "https://localhost:8080/"
        },
        "id": "VjEL6YZhhAbU",
        "outputId": "b5169c15-00ac-4ee4-97c7-d0e34e49faa0"
      },
      "source": [
        "# Viewing the available areas that are in the london boroughs as some of the areas are elsewhere in the UK\n",
        "df[df['borough_flag'] == 1]['area'].unique()"
      ],
      "execution_count": 9,
      "outputs": [
        {
          "output_type": "execute_result",
          "data": {
            "text/plain": [
              "array(['city of london', 'barking and dagenham', 'barnet', 'bexley',\n",
              "       'brent', 'bromley', 'camden', 'croydon', 'ealing', 'enfield',\n",
              "       'greenwich', 'hackney', 'hammersmith and fulham', 'haringey',\n",
              "       'harrow', 'havering', 'hillingdon', 'hounslow', 'islington',\n",
              "       'kensington and chelsea', 'kingston upon thames', 'lambeth',\n",
              "       'lewisham', 'merton', 'newham', 'redbridge',\n",
              "       'richmond upon thames', 'southwark', 'sutton', 'tower hamlets',\n",
              "       'waltham forest', 'wandsworth', 'westminster'], dtype=object)"
            ]
          },
          "metadata": {
            "tags": []
          },
          "execution_count": 9
        }
      ]
    }
  ]
}